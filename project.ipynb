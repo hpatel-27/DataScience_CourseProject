{
  "cells": [
    {
      "cell_type": "markdown",
      "metadata": {
        "id": "6CsgzAHyfTzF"
      },
      "source": [
        "## CSC 442 Group 6\n",
        "### Authors: Harsh Patel, Minji Kang, Aaron Chao\n",
        "Description:"
      ]
    },
    {
      "cell_type": "code",
      "execution_count": 54,
      "metadata": {
        "id": "OcBmCGpxvN6Y"
      },
      "outputs": [],
      "source": [
        "# importing pandas for dataframes, cleaning, wrangling, and analysis\n",
        "import pandas as pd\n",
        "\n",
        "# Read in the two datasets\n",
        "players = pd.read_csv(\"https://raw.githubusercontent.com/hpatel-27/DataScience_CourseProject/refs/heads/main/datasets/Players.csv\", index_col=0)\n",
        "stats = pd.read_csv(\"https://raw.githubusercontent.com/hpatel-27/DataScience_CourseProject/refs/heads/main/datasets/Seasons_Stats.csv\", index_col=0)"
      ]
    },
    {
      "cell_type": "markdown",
      "metadata": {
        "id": "jht-85OhfZcM"
      },
      "source": [
        "### Dataset Dictionaries:\n",
        "\n",
        "### Players.csv:\n",
        "- 'Index': Unique integer value incremented from 0\n",
        "\n",
        "- 'Player': Player Name (First and Last Name)\n",
        "\n",
        "- 'Height': Player Height (cm)\n",
        "\n",
        "- 'Weight': Player Weight (kg)\n",
        "\n",
        "- 'College': Player's Attended College\n",
        "\n",
        "- 'Born': Player Birth Year\n",
        "\n",
        "- 'Birth_city': Player Birth City\n",
        "\n",
        "- 'Birth_state': Player Birth State\n",
        "\n",
        "### Stats.csv:\n",
        "- 'Year' - Year that the season occurred. Since the NBA season is split over two calendar years, the year given is the last year for that season.\n",
        "\n",
        "- 'Player' - Player name (First and Last)\n",
        "\n",
        "- 'Pos' - Player position(s)\n",
        "\n",
        "- 'Age' - Player Age on Feb 1 of the given season\n",
        "\n",
        "- 'Tm' - Team of the player\n",
        "\n",
        "- 'G' - Games the player has played in within the season\n",
        "\n",
        "- 'GS' - Games the player has been among the starting 5 within the season; (Available since 1982 season)\n",
        "\n",
        "- 'MP' - Minutes played across the season; (available since the 1951-52 season);\n",
        "\n",
        "- 'PER' - Player Efficiency Rating; (available since the 1951-52 season); \"The PER sums up all a player's positive accomplishments; subtracts the negative accomplishments, and returns a per-minute rating of a player's performance.\"\n",
        "\n",
        "- 'TS%' - True Shooting Percentage; Points/(2 * True-Shooting-Attempts); Measure of shooting efficiency that takes into account field goals, 3-point field goals, and free throws.\n",
        "\n",
        "- '3PAr'- 3-Point Attempt Rate; (3PA / FGA); Measure of what % of a player's shots come from long-distance, another good gauge of how they're utilized offensively.\n",
        "\n",
        "- 'FTr' - Free Throw Rate; (FTA / FGA); Free throw rate is the ratio of free throws attempted per field goal attempted.\n",
        "\n",
        "- 'ORB%' - Offensive Rebound Percentage; (available since the 1970-71 season in the NBA); 100 * (ORB * (Tm MP / 5)) / (MP * (Tm ORB + Opp DRB)).\n",
        "Estimate of the percentage of available offensive rebounds a player grabbed while he was on the floor\n",
        "\n",
        "- 'DRB%' - Defensive Rebound Percentage; (available since the 1970-71 season in the NBA); 100 * (DRB * (Tm MP / 5)) / (MP * (Tm DRB + Opp ORB)).\n",
        "Estimate of the percentage of available defensive rebounds a player grabbed while he was on the floor.\n",
        "\n",
        "- 'TRB%' - Total Rebound Percentage; (available since the 1970-71 season in the NBA); 100 * (TRB * (Tm MP / 5)) / (MP * (Tm TRB + Opp TRB)).\n",
        "Estimate of the percentage of available rebounds a player grabbed while he was on the floor.\n",
        "\n",
        "- 'AST%' - Assist Percentage; (available since the 1964-65 season in the NBA); the formula is 100 * AST / (((MP / (Tm MP / 5)) * Tm FG) - FG).\n",
        "Assist percentage is an estimate of the percentage of teammate field goals a player assisted while he was on the floor.\n",
        "\n",
        "- 'STL%' - Steal Percentage; (available since the 1973-74 season in the NBA); 100 * (STL * (Tm MP / 5)) / (MP * Opp Poss).\n",
        "Estimate of the percentage of opponent possessions that end with a steal by the player while he was on the floor.\n",
        "\n",
        "- 'BLK%' - Block Percentage; (available since the 1973-74 season in the NBA); 100 * (BLK * (Tm MP / 5)) / (MP * (Opp FGA - Opp 3PA)).\n",
        "Estimate of the percentage of opponent two-point field goal attempts blocked by the player while he was on the floor.\n",
        "\n",
        "- 'TOV%' - Turnover Percentage; (available since the 1977-78 season in the NBA); 100 * TOV / (FGA + 0.44 * FTA + TOV).\n",
        "Estimate of turnovers per 100 plays.\n",
        "\n",
        "- 'USG%' - Usage Percentage; (available since the 1977-78 season in the NBA); 100 * ((FGA + 0.44 * FTA + TOV) * (Tm MP / 5)) / (MP * (Tm FGA + 0.44 * Tm FTA + Tm TOV)). Estimate of the percentage of team plays used by a player while he was on the floor.\n",
        "\n",
        "- 'blanl' - Blank? Probably for making the data human-readable\n",
        "\n",
        "- 'OWS' - Offensive Win Shares; (marginal offense) / (marginal points per win);\n",
        "Estimate of the portion of a team's wins solely on a player's offensive performance.\n",
        "\n",
        "- 'DWS' - Defensive Win Shares; (marginal defense) / (marginal points per win);\n",
        "Estimate of the portion of a team's wins solely on a player's defensive performance.\n",
        "\n",
        "- 'WS' - Win Shares; OWS + DWS; Estimate of the number of wins contributed by the player\n",
        "\n",
        "- 'WS/48' - Win Shares Per 48 Minutes; (available since the 1951-52 season in the NBA).\n",
        "Estimate of the number of wins contributed by the player per 48 minutes (league average is approximately 0.100).\n",
        "\n",
        "- 'blank2' - Blank2? Probably for making the data human-readable\n",
        "\n",
        "- 'OBPM' - Offensive Box +/-; Estimates how much a player improves their team's offensive performance\n",
        "\n",
        "- 'DBPM' - Defensive Box +/-; Estimates how much a player improves their team's defensive performance\n",
        "\n",
        "- 'BPM' - Box +/-; (available since the 1973-74 season in the NBA);\n",
        "Estimate of the points per 100 possessions that a player contributed above a league-average player, translated to an average team.\n",
        "\n",
        "- 'VORP' - Value Over Replacement; (available since the 1973-74 season in the NBA);\n",
        "Estimate of the points per 100 TEAM possessions that a player contributed above a replacement-level (-2.0) player, translated to an average team and prorated to an 82-game season. Multiply by 2.70 to convert to wins over replacement.\n",
        "\n",
        "- 'FG' - Field Goals Made; (includes both 2-point field goals and 3-point field goals)\n",
        "\n",
        "- 'FGA' - Field Goals Attempted; (includes both 2-point field goal attempts and 3-point field goal attempts)\n",
        "\n",
        "- 'FG%' - Field Goal Percentage;  FG / FGA.\n",
        "\n",
        "- '3P' - 3-Pointers Made; (available since the 1979-80 season in the NBA)\n",
        "\n",
        "- '3PA' - 3-Pointers Attempted; (available since the 1979-80 season in the NBA)\n",
        "\n",
        "- '3P%' - 3-Point Percentage; (available since the 1979-80 season in the NBA); 3P / 3PA.\n",
        "\n",
        "- '2P' - 2-Point Field Goals Made\n",
        "\n",
        "- '2PA' - 2-Point Field Goals Attempted\n",
        "\n",
        "- '2P%' - 2-Point Field Goal Percentage; 2P / 2PA.\n",
        "\n",
        "- 'eFG%' - Effective Field Goal Percentage; (FG + 0.5 * 3P) / FGA. Adjusts for the fact that a 3-point field goal is worth one more point than a 2-point field goal.\n",
        "\n",
        "- 'FT' - Free Throws Made\n",
        "\n",
        "- 'FTA' - Free Throws Attempted\n",
        "\n",
        "- 'FT%' - Free Throw Percentage; FT / FTA.\n",
        "\n",
        "- 'ORB' - Offensive Rebounds; (available since the 1973-74 season in the NBA)\n",
        "\n",
        "- 'DRB' - Defensive Rebounds; (available since the 1973-74 season in the NBA)\n",
        "\n",
        "- 'TRB' - Total Rebounds Made; (available since the 1950-51 season)\n",
        "\n",
        "- 'AST' - Assists Made\n",
        "\n",
        "- 'STL' - Steals Made; (available since the 1973-74 season in the NBA)\n",
        "\n",
        "- 'BLK' - Blocks Made; (available since the 1973-74 season in the NBA)\n",
        "\n",
        "- 'TOV' - Turnovers Made (available since the 1977-78 season in the NBA)\n",
        "\n",
        "- 'PF' - Personal Fouls By Player\n",
        "\n",
        "- 'PTS' - Points Scored\n",
        "\n"
      ]
    },
    {
      "cell_type": "code",
      "execution_count": 55,
      "metadata": {
        "colab": {
          "base_uri": "https://localhost:8080/",
          "height": 206
        },
        "id": "bwvdaYuevN6a",
        "outputId": "1727c3c3-accc-4338-be09-67a82726d82b"
      },
      "outputs": [
        {
          "data": {
            "text/html": [
              "<div>\n",
              "<style scoped>\n",
              "    .dataframe tbody tr th:only-of-type {\n",
              "        vertical-align: middle;\n",
              "    }\n",
              "\n",
              "    .dataframe tbody tr th {\n",
              "        vertical-align: top;\n",
              "    }\n",
              "\n",
              "    .dataframe thead th {\n",
              "        text-align: right;\n",
              "    }\n",
              "</style>\n",
              "<table border=\"1\" class=\"dataframe\">\n",
              "  <thead>\n",
              "    <tr style=\"text-align: right;\">\n",
              "      <th></th>\n",
              "      <th>Player</th>\n",
              "      <th>height</th>\n",
              "      <th>weight</th>\n",
              "      <th>collage</th>\n",
              "      <th>born</th>\n",
              "      <th>birth_city</th>\n",
              "      <th>birth_state</th>\n",
              "    </tr>\n",
              "  </thead>\n",
              "  <tbody>\n",
              "    <tr>\n",
              "      <th>0</th>\n",
              "      <td>Curly Armstrong</td>\n",
              "      <td>180.0</td>\n",
              "      <td>77.0</td>\n",
              "      <td>Indiana University</td>\n",
              "      <td>1918.0</td>\n",
              "      <td>NaN</td>\n",
              "      <td>NaN</td>\n",
              "    </tr>\n",
              "    <tr>\n",
              "      <th>1</th>\n",
              "      <td>Cliff Barker</td>\n",
              "      <td>188.0</td>\n",
              "      <td>83.0</td>\n",
              "      <td>University of Kentucky</td>\n",
              "      <td>1921.0</td>\n",
              "      <td>Yorktown</td>\n",
              "      <td>Indiana</td>\n",
              "    </tr>\n",
              "    <tr>\n",
              "      <th>2</th>\n",
              "      <td>Leo Barnhorst</td>\n",
              "      <td>193.0</td>\n",
              "      <td>86.0</td>\n",
              "      <td>University of Notre Dame</td>\n",
              "      <td>1924.0</td>\n",
              "      <td>NaN</td>\n",
              "      <td>NaN</td>\n",
              "    </tr>\n",
              "    <tr>\n",
              "      <th>3</th>\n",
              "      <td>Ed Bartels</td>\n",
              "      <td>196.0</td>\n",
              "      <td>88.0</td>\n",
              "      <td>North Carolina State University</td>\n",
              "      <td>1925.0</td>\n",
              "      <td>NaN</td>\n",
              "      <td>NaN</td>\n",
              "    </tr>\n",
              "    <tr>\n",
              "      <th>4</th>\n",
              "      <td>Ralph Beard</td>\n",
              "      <td>178.0</td>\n",
              "      <td>79.0</td>\n",
              "      <td>University of Kentucky</td>\n",
              "      <td>1927.0</td>\n",
              "      <td>Hardinsburg</td>\n",
              "      <td>Kentucky</td>\n",
              "    </tr>\n",
              "  </tbody>\n",
              "</table>\n",
              "</div>"
            ],
            "text/plain": [
              "            Player  height  weight                          collage    born  \\\n",
              "0  Curly Armstrong   180.0    77.0               Indiana University  1918.0   \n",
              "1     Cliff Barker   188.0    83.0           University of Kentucky  1921.0   \n",
              "2    Leo Barnhorst   193.0    86.0         University of Notre Dame  1924.0   \n",
              "3       Ed Bartels   196.0    88.0  North Carolina State University  1925.0   \n",
              "4      Ralph Beard   178.0    79.0           University of Kentucky  1927.0   \n",
              "\n",
              "    birth_city birth_state  \n",
              "0          NaN         NaN  \n",
              "1     Yorktown     Indiana  \n",
              "2          NaN         NaN  \n",
              "3          NaN         NaN  \n",
              "4  Hardinsburg    Kentucky  "
            ]
          },
          "execution_count": 55,
          "metadata": {},
          "output_type": "execute_result"
        }
      ],
      "source": [
        "# Look at the first five rows of the Players.csv\n",
        "players.head()"
      ]
    },
    {
      "cell_type": "code",
      "execution_count": 56,
      "metadata": {
        "colab": {
          "base_uri": "https://localhost:8080/"
        },
        "id": "D0Uz9kVNEBT4",
        "outputId": "7f1619c1-64e0-4066-df5c-cf362369e732"
      },
      "outputs": [
        {
          "data": {
            "text/plain": [
              "Index(['Player', 'height', 'weight', 'collage', 'born', 'birth_city',\n",
              "       'birth_state'],\n",
              "      dtype='object')"
            ]
          },
          "execution_count": 56,
          "metadata": {},
          "output_type": "execute_result"
        }
      ],
      "source": [
        "# Looking at column names of players dataframe\n",
        "players.columns"
      ]
    },
    {
      "cell_type": "code",
      "execution_count": 57,
      "metadata": {
        "colab": {
          "base_uri": "https://localhost:8080/",
          "height": 303
        },
        "id": "OKk-eC9WEBT4",
        "outputId": "d4f8ba5d-37e0-4c01-9b87-2fa016c8c130"
      },
      "outputs": [
        {
          "data": {
            "text/plain": [
              "Player          object\n",
              "height         float64\n",
              "weight         float64\n",
              "collage         object\n",
              "born           float64\n",
              "birth_city      object\n",
              "birth_state     object\n",
              "dtype: object"
            ]
          },
          "execution_count": 57,
          "metadata": {},
          "output_type": "execute_result"
        }
      ],
      "source": [
        "# Checking players data types\n",
        "players.dtypes"
      ]
    },
    {
      "cell_type": "code",
      "execution_count": 58,
      "metadata": {
        "colab": {
          "base_uri": "https://localhost:8080/"
        },
        "id": "BzivHjqSIAgl",
        "outputId": "b5092b3b-d997-459a-8410-938d27d28b6e"
      },
      "outputs": [
        {
          "data": {
            "text/plain": [
              "Index([   0,    1,    2,    3,    4,    5,    6,    7,    8,    9,\n",
              "       ...\n",
              "       3912, 3913, 3914, 3915, 3916, 3917, 3918, 3919, 3920, 3921],\n",
              "      dtype='int64', length=3922)"
            ]
          },
          "execution_count": 58,
          "metadata": {},
          "output_type": "execute_result"
        }
      ],
      "source": [
        "# Check row labels\n",
        "players.index"
      ]
    },
    {
      "cell_type": "code",
      "execution_count": 59,
      "metadata": {
        "colab": {
          "base_uri": "https://localhost:8080/"
        },
        "id": "YR0m367lJAOl",
        "outputId": "a0eae0e4-3a5c-4bd8-84cf-f86602d22d03"
      },
      "outputs": [
        {
          "data": {
            "text/plain": [
              "3922"
            ]
          },
          "execution_count": 59,
          "metadata": {},
          "output_type": "execute_result"
        }
      ],
      "source": [
        "# Unit of observation (player)\n",
        "len(players[\"Player\"].unique())"
      ]
    },
    {
      "cell_type": "code",
      "execution_count": 60,
      "metadata": {
        "colab": {
          "base_uri": "https://localhost:8080/",
          "height": 235
        },
        "id": "5SzeAvPWvN6b",
        "outputId": "e8333323-ab35-4a61-cd41-0e31bc4fefb2"
      },
      "outputs": [
        {
          "data": {
            "text/html": [
              "<div>\n",
              "<style scoped>\n",
              "    .dataframe tbody tr th:only-of-type {\n",
              "        vertical-align: middle;\n",
              "    }\n",
              "\n",
              "    .dataframe tbody tr th {\n",
              "        vertical-align: top;\n",
              "    }\n",
              "\n",
              "    .dataframe thead th {\n",
              "        text-align: right;\n",
              "    }\n",
              "</style>\n",
              "<table border=\"1\" class=\"dataframe\">\n",
              "  <thead>\n",
              "    <tr style=\"text-align: right;\">\n",
              "      <th></th>\n",
              "      <th>Year</th>\n",
              "      <th>Player</th>\n",
              "      <th>Pos</th>\n",
              "      <th>Age</th>\n",
              "      <th>Tm</th>\n",
              "      <th>G</th>\n",
              "      <th>GS</th>\n",
              "      <th>MP</th>\n",
              "      <th>PER</th>\n",
              "      <th>TS%</th>\n",
              "      <th>...</th>\n",
              "      <th>FT%</th>\n",
              "      <th>ORB</th>\n",
              "      <th>DRB</th>\n",
              "      <th>TRB</th>\n",
              "      <th>AST</th>\n",
              "      <th>STL</th>\n",
              "      <th>BLK</th>\n",
              "      <th>TOV</th>\n",
              "      <th>PF</th>\n",
              "      <th>PTS</th>\n",
              "    </tr>\n",
              "  </thead>\n",
              "  <tbody>\n",
              "    <tr>\n",
              "      <th>0</th>\n",
              "      <td>1950.0</td>\n",
              "      <td>Curly Armstrong</td>\n",
              "      <td>G-F</td>\n",
              "      <td>31.0</td>\n",
              "      <td>FTW</td>\n",
              "      <td>63.0</td>\n",
              "      <td>NaN</td>\n",
              "      <td>NaN</td>\n",
              "      <td>NaN</td>\n",
              "      <td>0.368</td>\n",
              "      <td>...</td>\n",
              "      <td>0.705</td>\n",
              "      <td>NaN</td>\n",
              "      <td>NaN</td>\n",
              "      <td>NaN</td>\n",
              "      <td>176.0</td>\n",
              "      <td>NaN</td>\n",
              "      <td>NaN</td>\n",
              "      <td>NaN</td>\n",
              "      <td>217.0</td>\n",
              "      <td>458.0</td>\n",
              "    </tr>\n",
              "    <tr>\n",
              "      <th>1</th>\n",
              "      <td>1950.0</td>\n",
              "      <td>Cliff Barker</td>\n",
              "      <td>SG</td>\n",
              "      <td>29.0</td>\n",
              "      <td>INO</td>\n",
              "      <td>49.0</td>\n",
              "      <td>NaN</td>\n",
              "      <td>NaN</td>\n",
              "      <td>NaN</td>\n",
              "      <td>0.435</td>\n",
              "      <td>...</td>\n",
              "      <td>0.708</td>\n",
              "      <td>NaN</td>\n",
              "      <td>NaN</td>\n",
              "      <td>NaN</td>\n",
              "      <td>109.0</td>\n",
              "      <td>NaN</td>\n",
              "      <td>NaN</td>\n",
              "      <td>NaN</td>\n",
              "      <td>99.0</td>\n",
              "      <td>279.0</td>\n",
              "    </tr>\n",
              "    <tr>\n",
              "      <th>2</th>\n",
              "      <td>1950.0</td>\n",
              "      <td>Leo Barnhorst</td>\n",
              "      <td>SF</td>\n",
              "      <td>25.0</td>\n",
              "      <td>CHS</td>\n",
              "      <td>67.0</td>\n",
              "      <td>NaN</td>\n",
              "      <td>NaN</td>\n",
              "      <td>NaN</td>\n",
              "      <td>0.394</td>\n",
              "      <td>...</td>\n",
              "      <td>0.698</td>\n",
              "      <td>NaN</td>\n",
              "      <td>NaN</td>\n",
              "      <td>NaN</td>\n",
              "      <td>140.0</td>\n",
              "      <td>NaN</td>\n",
              "      <td>NaN</td>\n",
              "      <td>NaN</td>\n",
              "      <td>192.0</td>\n",
              "      <td>438.0</td>\n",
              "    </tr>\n",
              "    <tr>\n",
              "      <th>3</th>\n",
              "      <td>1950.0</td>\n",
              "      <td>Ed Bartels</td>\n",
              "      <td>F</td>\n",
              "      <td>24.0</td>\n",
              "      <td>TOT</td>\n",
              "      <td>15.0</td>\n",
              "      <td>NaN</td>\n",
              "      <td>NaN</td>\n",
              "      <td>NaN</td>\n",
              "      <td>0.312</td>\n",
              "      <td>...</td>\n",
              "      <td>0.559</td>\n",
              "      <td>NaN</td>\n",
              "      <td>NaN</td>\n",
              "      <td>NaN</td>\n",
              "      <td>20.0</td>\n",
              "      <td>NaN</td>\n",
              "      <td>NaN</td>\n",
              "      <td>NaN</td>\n",
              "      <td>29.0</td>\n",
              "      <td>63.0</td>\n",
              "    </tr>\n",
              "    <tr>\n",
              "      <th>4</th>\n",
              "      <td>1950.0</td>\n",
              "      <td>Ed Bartels</td>\n",
              "      <td>F</td>\n",
              "      <td>24.0</td>\n",
              "      <td>DNN</td>\n",
              "      <td>13.0</td>\n",
              "      <td>NaN</td>\n",
              "      <td>NaN</td>\n",
              "      <td>NaN</td>\n",
              "      <td>0.308</td>\n",
              "      <td>...</td>\n",
              "      <td>0.548</td>\n",
              "      <td>NaN</td>\n",
              "      <td>NaN</td>\n",
              "      <td>NaN</td>\n",
              "      <td>20.0</td>\n",
              "      <td>NaN</td>\n",
              "      <td>NaN</td>\n",
              "      <td>NaN</td>\n",
              "      <td>27.0</td>\n",
              "      <td>59.0</td>\n",
              "    </tr>\n",
              "  </tbody>\n",
              "</table>\n",
              "<p>5 rows × 52 columns</p>\n",
              "</div>"
            ],
            "text/plain": [
              "     Year           Player  Pos   Age   Tm     G  GS  MP  PER    TS%  ...  \\\n",
              "0  1950.0  Curly Armstrong  G-F  31.0  FTW  63.0 NaN NaN  NaN  0.368  ...   \n",
              "1  1950.0     Cliff Barker   SG  29.0  INO  49.0 NaN NaN  NaN  0.435  ...   \n",
              "2  1950.0    Leo Barnhorst   SF  25.0  CHS  67.0 NaN NaN  NaN  0.394  ...   \n",
              "3  1950.0       Ed Bartels    F  24.0  TOT  15.0 NaN NaN  NaN  0.312  ...   \n",
              "4  1950.0       Ed Bartels    F  24.0  DNN  13.0 NaN NaN  NaN  0.308  ...   \n",
              "\n",
              "     FT%  ORB  DRB  TRB    AST  STL  BLK  TOV     PF    PTS  \n",
              "0  0.705  NaN  NaN  NaN  176.0  NaN  NaN  NaN  217.0  458.0  \n",
              "1  0.708  NaN  NaN  NaN  109.0  NaN  NaN  NaN   99.0  279.0  \n",
              "2  0.698  NaN  NaN  NaN  140.0  NaN  NaN  NaN  192.0  438.0  \n",
              "3  0.559  NaN  NaN  NaN   20.0  NaN  NaN  NaN   29.0   63.0  \n",
              "4  0.548  NaN  NaN  NaN   20.0  NaN  NaN  NaN   27.0   59.0  \n",
              "\n",
              "[5 rows x 52 columns]"
            ]
          },
          "execution_count": 60,
          "metadata": {},
          "output_type": "execute_result"
        }
      ],
      "source": [
        "# Look at the first five rows of the Season_Stats.csv\n",
        "stats.head()"
      ]
    },
    {
      "cell_type": "code",
      "execution_count": 61,
      "metadata": {
        "colab": {
          "base_uri": "https://localhost:8080/"
        },
        "id": "N_0E8htCEBT5",
        "outputId": "8ca6877d-2f68-4054-9d66-c8b557c35011"
      },
      "outputs": [
        {
          "data": {
            "text/plain": [
              "Index(['Year', 'Player', 'Pos', 'Age', 'Tm', 'G', 'GS', 'MP', 'PER', 'TS%',\n",
              "       '3PAr', 'FTr', 'ORB%', 'DRB%', 'TRB%', 'AST%', 'STL%', 'BLK%', 'TOV%',\n",
              "       'USG%', 'blanl', 'OWS', 'DWS', 'WS', 'WS/48', 'blank2', 'OBPM', 'DBPM',\n",
              "       'BPM', 'VORP', 'FG', 'FGA', 'FG%', '3P', '3PA', '3P%', '2P', '2PA',\n",
              "       '2P%', 'eFG%', 'FT', 'FTA', 'FT%', 'ORB', 'DRB', 'TRB', 'AST', 'STL',\n",
              "       'BLK', 'TOV', 'PF', 'PTS'],\n",
              "      dtype='object')"
            ]
          },
          "execution_count": 61,
          "metadata": {},
          "output_type": "execute_result"
        }
      ],
      "source": [
        "# Looking at column names of stats dataframe\n",
        "stats.columns"
      ]
    },
    {
      "cell_type": "code",
      "execution_count": 62,
      "metadata": {
        "colab": {
          "base_uri": "https://localhost:8080/",
          "height": 1000
        },
        "id": "M573x08dEBT5",
        "outputId": "e6648d84-a0c7-4cc3-829c-3dbefd18a2e1"
      },
      "outputs": [
        {
          "data": {
            "text/plain": [
              "Year      float64\n",
              "Player     object\n",
              "Pos        object\n",
              "Age       float64\n",
              "Tm         object\n",
              "G         float64\n",
              "GS        float64\n",
              "MP        float64\n",
              "PER       float64\n",
              "TS%       float64\n",
              "3PAr      float64\n",
              "FTr       float64\n",
              "ORB%      float64\n",
              "DRB%      float64\n",
              "TRB%      float64\n",
              "AST%      float64\n",
              "STL%      float64\n",
              "BLK%      float64\n",
              "TOV%      float64\n",
              "USG%      float64\n",
              "blanl     float64\n",
              "OWS       float64\n",
              "DWS       float64\n",
              "WS        float64\n",
              "WS/48     float64\n",
              "blank2    float64\n",
              "OBPM      float64\n",
              "DBPM      float64\n",
              "BPM       float64\n",
              "VORP      float64\n",
              "FG        float64\n",
              "FGA       float64\n",
              "FG%       float64\n",
              "3P        float64\n",
              "3PA       float64\n",
              "3P%       float64\n",
              "2P        float64\n",
              "2PA       float64\n",
              "2P%       float64\n",
              "eFG%      float64\n",
              "FT        float64\n",
              "FTA       float64\n",
              "FT%       float64\n",
              "ORB       float64\n",
              "DRB       float64\n",
              "TRB       float64\n",
              "AST       float64\n",
              "STL       float64\n",
              "BLK       float64\n",
              "TOV       float64\n",
              "PF        float64\n",
              "PTS       float64\n",
              "dtype: object"
            ]
          },
          "execution_count": 62,
          "metadata": {},
          "output_type": "execute_result"
        }
      ],
      "source": [
        "# Checking stats data types\n",
        "stats.dtypes"
      ]
    },
    {
      "cell_type": "code",
      "execution_count": 63,
      "metadata": {
        "colab": {
          "base_uri": "https://localhost:8080/"
        },
        "id": "mctBJoDpJze_",
        "outputId": "8c7bb939-97c5-4c56-838c-fd82584e365c"
      },
      "outputs": [
        {
          "data": {
            "text/plain": [
              "Index([    0,     1,     2,     3,     4,     5,     6,     7,     8,     9,\n",
              "       ...\n",
              "       24681, 24682, 24683, 24684, 24685, 24686, 24687, 24688, 24689, 24690],\n",
              "      dtype='int64', length=24691)"
            ]
          },
          "execution_count": 63,
          "metadata": {},
          "output_type": "execute_result"
        }
      ],
      "source": [
        "# Check row labels\n",
        "stats.index"
      ]
    },
    {
      "cell_type": "code",
      "execution_count": 64,
      "metadata": {
        "colab": {
          "base_uri": "https://localhost:8080/"
        },
        "id": "Qipu9p_gJ6pY",
        "outputId": "f424be03-bead-4925-ffa5-3cbed19670e8"
      },
      "outputs": [
        {
          "data": {
            "text/plain": [
              "3922"
            ]
          },
          "execution_count": 64,
          "metadata": {},
          "output_type": "execute_result"
        }
      ],
      "source": [
        "# Unit of observation (Player)\n",
        "len(stats[\"Player\"].unique())"
      ]
    },
    {
      "cell_type": "markdown",
      "metadata": {
        "id": "vUubdWcs1VKc"
      },
      "source": [
        "### Cleaning Players.csv:"
      ]
    },
    {
      "cell_type": "code",
      "execution_count": 65,
      "metadata": {
        "colab": {
          "base_uri": "https://localhost:8080/",
          "height": 206
        },
        "id": "QHaVDGIPxaYS",
        "outputId": "b0f4b17b-3e72-4048-cbe9-ceeb478bd760"
      },
      "outputs": [
        {
          "data": {
            "text/html": [
              "<div>\n",
              "<style scoped>\n",
              "    .dataframe tbody tr th:only-of-type {\n",
              "        vertical-align: middle;\n",
              "    }\n",
              "\n",
              "    .dataframe tbody tr th {\n",
              "        vertical-align: top;\n",
              "    }\n",
              "\n",
              "    .dataframe thead th {\n",
              "        text-align: right;\n",
              "    }\n",
              "</style>\n",
              "<table border=\"1\" class=\"dataframe\">\n",
              "  <thead>\n",
              "    <tr style=\"text-align: right;\">\n",
              "      <th></th>\n",
              "      <th>Player</th>\n",
              "      <th>height</th>\n",
              "      <th>weight</th>\n",
              "      <th>college</th>\n",
              "    </tr>\n",
              "  </thead>\n",
              "  <tbody>\n",
              "    <tr>\n",
              "      <th>0</th>\n",
              "      <td>Curly Armstrong</td>\n",
              "      <td>180.0</td>\n",
              "      <td>77.0</td>\n",
              "      <td>Indiana University</td>\n",
              "    </tr>\n",
              "    <tr>\n",
              "      <th>1</th>\n",
              "      <td>Cliff Barker</td>\n",
              "      <td>188.0</td>\n",
              "      <td>83.0</td>\n",
              "      <td>University of Kentucky</td>\n",
              "    </tr>\n",
              "    <tr>\n",
              "      <th>2</th>\n",
              "      <td>Leo Barnhorst</td>\n",
              "      <td>193.0</td>\n",
              "      <td>86.0</td>\n",
              "      <td>University of Notre Dame</td>\n",
              "    </tr>\n",
              "    <tr>\n",
              "      <th>3</th>\n",
              "      <td>Ed Bartels</td>\n",
              "      <td>196.0</td>\n",
              "      <td>88.0</td>\n",
              "      <td>North Carolina State University</td>\n",
              "    </tr>\n",
              "    <tr>\n",
              "      <th>4</th>\n",
              "      <td>Ralph Beard</td>\n",
              "      <td>178.0</td>\n",
              "      <td>79.0</td>\n",
              "      <td>University of Kentucky</td>\n",
              "    </tr>\n",
              "  </tbody>\n",
              "</table>\n",
              "</div>"
            ],
            "text/plain": [
              "            Player  height  weight                          college\n",
              "0  Curly Armstrong   180.0    77.0               Indiana University\n",
              "1     Cliff Barker   188.0    83.0           University of Kentucky\n",
              "2    Leo Barnhorst   193.0    86.0         University of Notre Dame\n",
              "3       Ed Bartels   196.0    88.0  North Carolina State University\n",
              "4      Ralph Beard   178.0    79.0           University of Kentucky"
            ]
          },
          "execution_count": 65,
          "metadata": {},
          "output_type": "execute_result"
        }
      ],
      "source": [
        "# Remove the following columns from the Players.csv dataset: [born, birth_city, birth_state]\n",
        "playersDropped = players.drop(columns=[\"born\", \"birth_city\", \"birth_state\"])\n",
        "# And update the error in the column name \"collage\" to \"college\"\n",
        "playersDropped = playersDropped.rename(columns={'collage': 'college'})\n",
        "\n",
        "# Check the updates\n",
        "playersDropped.head()"
      ]
    },
    {
      "cell_type": "markdown",
      "metadata": {
        "id": "W7-U-uN_1aMe"
      },
      "source": [
        "### Cleaning Seasons_Stats.csv:\n"
      ]
    },
    {
      "cell_type": "code",
      "execution_count": 66,
      "metadata": {
        "colab": {
          "base_uri": "https://localhost:8080/",
          "height": 235
        },
        "id": "w3mdaIhJ1cLa",
        "outputId": "f7f1be6a-eef0-4416-9427-b54ad92766eb"
      },
      "outputs": [
        {
          "data": {
            "text/html": [
              "<div>\n",
              "<style scoped>\n",
              "    .dataframe tbody tr th:only-of-type {\n",
              "        vertical-align: middle;\n",
              "    }\n",
              "\n",
              "    .dataframe tbody tr th {\n",
              "        vertical-align: top;\n",
              "    }\n",
              "\n",
              "    .dataframe thead th {\n",
              "        text-align: right;\n",
              "    }\n",
              "</style>\n",
              "<table border=\"1\" class=\"dataframe\">\n",
              "  <thead>\n",
              "    <tr style=\"text-align: right;\">\n",
              "      <th></th>\n",
              "      <th>Year</th>\n",
              "      <th>Player</th>\n",
              "      <th>Pos</th>\n",
              "      <th>Age</th>\n",
              "      <th>G</th>\n",
              "      <th>MP</th>\n",
              "      <th>PER</th>\n",
              "      <th>TS%</th>\n",
              "      <th>USG%</th>\n",
              "      <th>WS</th>\n",
              "      <th>...</th>\n",
              "      <th>3P%</th>\n",
              "      <th>2P%</th>\n",
              "      <th>eFG%</th>\n",
              "      <th>FT%</th>\n",
              "      <th>TRB</th>\n",
              "      <th>AST</th>\n",
              "      <th>STL</th>\n",
              "      <th>BLK</th>\n",
              "      <th>TOV</th>\n",
              "      <th>PTS</th>\n",
              "    </tr>\n",
              "  </thead>\n",
              "  <tbody>\n",
              "    <tr>\n",
              "      <th>0</th>\n",
              "      <td>1950.0</td>\n",
              "      <td>Curly Armstrong</td>\n",
              "      <td>G-F</td>\n",
              "      <td>31.0</td>\n",
              "      <td>63.0</td>\n",
              "      <td>NaN</td>\n",
              "      <td>NaN</td>\n",
              "      <td>0.368</td>\n",
              "      <td>NaN</td>\n",
              "      <td>3.5</td>\n",
              "      <td>...</td>\n",
              "      <td>NaN</td>\n",
              "      <td>0.279</td>\n",
              "      <td>0.279</td>\n",
              "      <td>0.705</td>\n",
              "      <td>NaN</td>\n",
              "      <td>176.0</td>\n",
              "      <td>NaN</td>\n",
              "      <td>NaN</td>\n",
              "      <td>NaN</td>\n",
              "      <td>458.0</td>\n",
              "    </tr>\n",
              "    <tr>\n",
              "      <th>1</th>\n",
              "      <td>1950.0</td>\n",
              "      <td>Cliff Barker</td>\n",
              "      <td>SG</td>\n",
              "      <td>29.0</td>\n",
              "      <td>49.0</td>\n",
              "      <td>NaN</td>\n",
              "      <td>NaN</td>\n",
              "      <td>0.435</td>\n",
              "      <td>NaN</td>\n",
              "      <td>2.2</td>\n",
              "      <td>...</td>\n",
              "      <td>NaN</td>\n",
              "      <td>0.372</td>\n",
              "      <td>0.372</td>\n",
              "      <td>0.708</td>\n",
              "      <td>NaN</td>\n",
              "      <td>109.0</td>\n",
              "      <td>NaN</td>\n",
              "      <td>NaN</td>\n",
              "      <td>NaN</td>\n",
              "      <td>279.0</td>\n",
              "    </tr>\n",
              "    <tr>\n",
              "      <th>2</th>\n",
              "      <td>1950.0</td>\n",
              "      <td>Leo Barnhorst</td>\n",
              "      <td>SF</td>\n",
              "      <td>25.0</td>\n",
              "      <td>67.0</td>\n",
              "      <td>NaN</td>\n",
              "      <td>NaN</td>\n",
              "      <td>0.394</td>\n",
              "      <td>NaN</td>\n",
              "      <td>3.6</td>\n",
              "      <td>...</td>\n",
              "      <td>NaN</td>\n",
              "      <td>0.349</td>\n",
              "      <td>0.349</td>\n",
              "      <td>0.698</td>\n",
              "      <td>NaN</td>\n",
              "      <td>140.0</td>\n",
              "      <td>NaN</td>\n",
              "      <td>NaN</td>\n",
              "      <td>NaN</td>\n",
              "      <td>438.0</td>\n",
              "    </tr>\n",
              "    <tr>\n",
              "      <th>3</th>\n",
              "      <td>1950.0</td>\n",
              "      <td>Ed Bartels</td>\n",
              "      <td>F</td>\n",
              "      <td>24.0</td>\n",
              "      <td>15.0</td>\n",
              "      <td>NaN</td>\n",
              "      <td>NaN</td>\n",
              "      <td>0.312</td>\n",
              "      <td>NaN</td>\n",
              "      <td>-0.6</td>\n",
              "      <td>...</td>\n",
              "      <td>NaN</td>\n",
              "      <td>0.256</td>\n",
              "      <td>0.256</td>\n",
              "      <td>0.559</td>\n",
              "      <td>NaN</td>\n",
              "      <td>20.0</td>\n",
              "      <td>NaN</td>\n",
              "      <td>NaN</td>\n",
              "      <td>NaN</td>\n",
              "      <td>63.0</td>\n",
              "    </tr>\n",
              "    <tr>\n",
              "      <th>4</th>\n",
              "      <td>1950.0</td>\n",
              "      <td>Ed Bartels</td>\n",
              "      <td>F</td>\n",
              "      <td>24.0</td>\n",
              "      <td>13.0</td>\n",
              "      <td>NaN</td>\n",
              "      <td>NaN</td>\n",
              "      <td>0.308</td>\n",
              "      <td>NaN</td>\n",
              "      <td>-0.6</td>\n",
              "      <td>...</td>\n",
              "      <td>NaN</td>\n",
              "      <td>0.256</td>\n",
              "      <td>0.256</td>\n",
              "      <td>0.548</td>\n",
              "      <td>NaN</td>\n",
              "      <td>20.0</td>\n",
              "      <td>NaN</td>\n",
              "      <td>NaN</td>\n",
              "      <td>NaN</td>\n",
              "      <td>59.0</td>\n",
              "    </tr>\n",
              "  </tbody>\n",
              "</table>\n",
              "<p>5 rows × 23 columns</p>\n",
              "</div>"
            ],
            "text/plain": [
              "     Year           Player  Pos   Age     G  MP  PER    TS%  USG%   WS  ...  \\\n",
              "0  1950.0  Curly Armstrong  G-F  31.0  63.0 NaN  NaN  0.368   NaN  3.5  ...   \n",
              "1  1950.0     Cliff Barker   SG  29.0  49.0 NaN  NaN  0.435   NaN  2.2  ...   \n",
              "2  1950.0    Leo Barnhorst   SF  25.0  67.0 NaN  NaN  0.394   NaN  3.6  ...   \n",
              "3  1950.0       Ed Bartels    F  24.0  15.0 NaN  NaN  0.312   NaN -0.6  ...   \n",
              "4  1950.0       Ed Bartels    F  24.0  13.0 NaN  NaN  0.308   NaN -0.6  ...   \n",
              "\n",
              "   3P%    2P%   eFG%    FT%  TRB    AST  STL  BLK  TOV    PTS  \n",
              "0  NaN  0.279  0.279  0.705  NaN  176.0  NaN  NaN  NaN  458.0  \n",
              "1  NaN  0.372  0.372  0.708  NaN  109.0  NaN  NaN  NaN  279.0  \n",
              "2  NaN  0.349  0.349  0.698  NaN  140.0  NaN  NaN  NaN  438.0  \n",
              "3  NaN  0.256  0.256  0.559  NaN   20.0  NaN  NaN  NaN   63.0  \n",
              "4  NaN  0.256  0.256  0.548  NaN   20.0  NaN  NaN  NaN   59.0  \n",
              "\n",
              "[5 rows x 23 columns]"
            ]
          },
          "execution_count": 66,
          "metadata": {},
          "output_type": "execute_result"
        }
      ],
      "source": [
        "# To keep this readable, I split the drop columns across multiple lines\n",
        "\n",
        "# Drop the following columns:\n",
        "# ['Team', 'Games Started', '3 Point Attempt Rate', 'Free Throw Attempt Rate', 'Offensive Rebound %', 'Defensive Rebound %', 'Total Rebound %',\n",
        "# 'Assist %', 'Steal %', 'Block %', 'Turnover %', 'blanl']\n",
        "statsDropped = stats.drop(columns=['Tm', 'GS', '3PAr', 'FTr', 'ORB%', 'DRB%', 'TRB%', 'AST%', 'STL%', 'BLK%', 'TOV%', 'blanl'])\n",
        "\n",
        "# Drop the following columns:\n",
        "# ['Offensive Win Shares', 'Defensive Win Shares', 'Win Shares Per 48 Minutes', 'blank2', 'Offensive Box +/-', 'Defensive Box +/-', 'Field Goals',\n",
        "# 'Field Goals Attempted', '3 Pointers', '3 Pointers Attempted', '2 Pointers', '2 Pointers Attempted', 'Free Throws', 'Free Throws Attempted']\n",
        "statsDropped = statsDropped.drop(columns=['OWS', 'DWS', 'WS/48', 'blank2', 'OBPM', 'DBPM', 'FG', 'FGA', '3P', '3PA', '2P', '2PA', 'FT', 'FTA'])\n",
        "\n",
        "# Drop the following columns: ['Offensive Rebounds', 'Defensive Rebounds', 'Personal Fouls']\n",
        "statsDropped = statsDropped.drop(columns=['ORB', 'DRB', 'PF'])\n",
        "\n",
        "statsDropped.head()"
      ]
    },
    {
      "cell_type": "code",
      "execution_count": 110,
      "metadata": {
        "id": "Ux5qNJXhEBT6"
      },
      "outputs": [],
      "source": [
        "# Changing year column to Int64\n",
        "statsDropped['Year'] = statsDropped['Year'].astype('Int64')\n",
        "# Changing games column to Int64\n",
        "statsDropped['G'] = statsDropped['G'].astype('Int64')"
      ]
    },
    {
      "cell_type": "markdown",
      "metadata": {},
      "source": [
        "### Merging rows of stats to combine non-unique players"
      ]
    },
    {
      "cell_type": "code",
      "execution_count": 111,
      "metadata": {},
      "outputs": [],
      "source": [
        "# Removing rows that do not have a player name in both datasets\n",
        "playersDropped = playersDropped.dropna(subset='Player')\n",
        "statsDropped = statsDropped.dropna(subset='Player')"
      ]
    },
    {
      "cell_type": "code",
      "execution_count": 114,
      "metadata": {},
      "outputs": [
        {
          "data": {
            "text/plain": [
              "Year        Int64\n",
              "Player     object\n",
              "Pos        object\n",
              "Age       float64\n",
              "G           Int64\n",
              "MP        float64\n",
              "PER       float64\n",
              "TS%       float64\n",
              "USG%      float64\n",
              "WS        float64\n",
              "BPM       float64\n",
              "VORP      float64\n",
              "FG%       float64\n",
              "3P%       float64\n",
              "2P%       float64\n",
              "eFG%      float64\n",
              "FT%       float64\n",
              "TRB       float64\n",
              "AST       float64\n",
              "STL       float64\n",
              "BLK       float64\n",
              "TOV       float64\n",
              "PTS       float64\n",
              "dtype: object"
            ]
          },
          "execution_count": 114,
          "metadata": {},
          "output_type": "execute_result"
        }
      ],
      "source": [
        "statsDropped.dtypes"
      ]
    },
    {
      "cell_type": "code",
      "execution_count": 134,
      "metadata": {},
      "outputs": [],
      "source": [
        "# Grouping stats by players to combine non-unique players \n",
        "statsGrouped = statsDropped.groupby('Player')\n",
        "# New combined player df\n",
        "statsCombined = pd.DataFrame(columns = statsDropped.columns)\n",
        "# Iterating through group\n",
        "for group in statsGrouped.groups:\n",
        "    # Creating a dataframe from grouped rows\n",
        "    groupeddf = statsGrouped.get_group(group)\n",
        "    # Checking if there are multiple player entries\n",
        "    if groupeddf.shape[0] > 1:\n",
        "        # Calculating average year \n",
        "        avgYear = groupeddf['Year'].mean()\n",
        "        # Calculating most frequent position\n",
        "        modePos = groupeddf['Pos'].mode()\n",
        "        # Calculating average age \n",
        "        avgAge = groupeddf['Age'].mean()\n",
        "        # Calculating average number of games \n",
        "        avgGames = groupeddf['G'].mean()\n",
        "        # Calculating the average number of minutes played\n",
        "        avgMP = groupeddf['MP'].mean()\n",
        "        # Creating variable for total number of games to calculate weighted averages\n",
        "        totalGames = 0\n",
        "        # Creating variables to track other totals \n",
        "        totalPER, totalTS, totalUSG, totalWS, totalBPM = 0, 0, 0, 0, 0\n",
        "        totalVORP, totalFG, total3P, total2P, totaleFG = 0, 0, 0, 0, 0\n",
        "        totalFT, totalTRB, totalAST, totalSTL, totalBLK, totalTOV, totalPTS = 0, 0, 0, 0, 0, 0, 0\n",
        "        for _, row in groupeddf.iterrows():\n",
        "            g = row['G']\n",
        "            totalPER += g * row['PER']\n",
        "            totalTS += g * row['TS%']\n",
        "            totalUSG += g * row['USG%']\n",
        "            totalWS += g * row['WS']\n",
        "            totalBPM += g * row['BPM']\n",
        "            totalVORP += g * row['VORP']\n",
        "            totalFG += g * row['FG%']\n",
        "            total3P += g * row['3P%']\n",
        "            total2P += g * row['2P%']\n",
        "            totaleFG += g * row['eFG%']\n",
        "            totalFT += g * row['FT%']\n",
        "            totalTRB += g * row['TRB']\n",
        "            totalAST += g * row['AST']\n",
        "            totalSTL += g * row['STL']\n",
        "            totalBLK += g * row['BLK']\n",
        "            totalTOV += g * row['TOV']\n",
        "            totalPTS += g * row['PTS']\n",
        "            totalGames += g\n",
        "        statsCombined.loc[len(statsCombined)] = {'Year': avgYear, 'Player': groupeddf.iloc[0]['Player'], 'Pos': modePos, 'Age': avgAge, 'G': avgGames, 'MP': avgMP, 'PER': totalPER / totalGames,\n",
        "                                                 'TS%': totalTS / totalGames, 'USG%': totalUSG / totalGames, 'WS': totalWS / totalGames, 'BPM': totalBPM / totalGames, 'VORP': totalVORP / totalGames, 'FG%': totalFG / totalGames, '3P%': total3P / totalGames, '2P%': total2P / totalGames, \n",
        "                                                 'eFG%': totaleFG / totalGames, 'FT%': totalFT / totalGames, 'TRB': totalTRB / totalGames, 'AST': totalAST / totalGames, 'STL': totalSTL / totalGames, 'BLK': totalBLK / totalGames, 'TOV': totalTOV / totalGames, 'PTS': totalPTS / totalGames}\n",
        "    else: \n",
        "        statsCombined = pd.concat([statsCombined, groupeddf])"
      ]
    },
    {
      "cell_type": "code",
      "execution_count": 136,
      "metadata": {},
      "outputs": [
        {
          "data": {
            "text/plain": [
              "(3513, 23)"
            ]
          },
          "execution_count": 136,
          "metadata": {},
          "output_type": "execute_result"
        }
      ],
      "source": [
        "statsCombined.shape"
      ]
    },
    {
      "cell_type": "markdown",
      "metadata": {},
      "source": [
        "### Shapes of dataframes after cleaning"
      ]
    },
    {
      "cell_type": "code",
      "execution_count": 90,
      "metadata": {
        "colab": {
          "base_uri": "https://localhost:8080/"
        },
        "id": "eip9t8TQEBT6",
        "outputId": "5f4f66fb-efcb-409d-94c1-e882478731e6"
      },
      "outputs": [
        {
          "name": "stdout",
          "output_type": "stream",
          "text": [
            "Shape of players.csv before dropping columns: (3922, 7)\n",
            "Shape of players.csv after dropping columns: (3921, 4)\n",
            "Shape of stats.csv before dropping columns: (24691, 52)\n",
            "Shape of stats.csv after dropping columns: (24624, 23)\n"
          ]
        }
      ],
      "source": [
        "print(f'Shape of players.csv before dropping columns: {players.shape}')\n",
        "print(f'Shape of players.csv after dropping columns: {playersDropped.shape}')\n",
        "print(f'Shape of stats.csv before dropping columns: {stats.shape}')\n",
        "print(f'Shape of stats.csv after dropping columns: {statsDropped.shape}')"
      ]
    }
  ],
  "metadata": {
    "colab": {
      "provenance": []
    },
    "kernelspec": {
      "display_name": "Python 3",
      "language": "python",
      "name": "python3"
    },
    "language_info": {
      "codemirror_mode": {
        "name": "ipython",
        "version": 3
      },
      "file_extension": ".py",
      "mimetype": "text/x-python",
      "name": "python",
      "nbconvert_exporter": "python",
      "pygments_lexer": "ipython3",
      "version": "3.12.9"
    }
  },
  "nbformat": 4,
  "nbformat_minor": 0
}
